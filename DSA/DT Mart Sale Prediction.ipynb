{
 "cells": [
  {
   "cell_type": "code",
   "execution_count": 2,
   "id": "33314a76",
   "metadata": {},
   "outputs": [],
   "source": [
    "import pandas as pd\n",
    "import numpy as np\n",
    "import matplotlib.pyplot as plt\n",
    "import seaborn as sns"
   ]
  },
  {
   "cell_type": "code",
   "execution_count": 4,
   "id": "63e55d74",
   "metadata": {},
   "outputs": [],
   "source": [
    "data = pd.read_excel(r\"F:\\DSA\\Kaggle\\DT MART\\Predict Sales.xlsx\")"
   ]
  },
  {
   "cell_type": "code",
   "execution_count": 5,
   "id": "25346981",
   "metadata": {},
   "outputs": [
    {
     "data": {
      "text/html": [
       "<div>\n",
       "<style scoped>\n",
       "    .dataframe tbody tr th:only-of-type {\n",
       "        vertical-align: middle;\n",
       "    }\n",
       "\n",
       "    .dataframe tbody tr th {\n",
       "        vertical-align: top;\n",
       "    }\n",
       "\n",
       "    .dataframe thead th {\n",
       "        text-align: right;\n",
       "    }\n",
       "</style>\n",
       "<table border=\"1\" class=\"dataframe\">\n",
       "  <thead>\n",
       "    <tr style=\"text-align: right;\">\n",
       "      <th></th>\n",
       "      <th>OrderDate</th>\n",
       "      <th>GMV</th>\n",
       "      <th>Units</th>\n",
       "      <th>PaymentType</th>\n",
       "      <th>SLA</th>\n",
       "      <th>Category</th>\n",
       "      <th>MarkedPrice</th>\n",
       "      <th>SLA.1</th>\n",
       "    </tr>\n",
       "  </thead>\n",
       "  <tbody>\n",
       "    <tr>\n",
       "      <th>0</th>\n",
       "      <td>2016-06-11 11:52:00</td>\n",
       "      <td>607</td>\n",
       "      <td>1</td>\n",
       "      <td>Prepaid</td>\n",
       "      <td>6</td>\n",
       "      <td>CameraAccessory</td>\n",
       "      <td>1339</td>\n",
       "      <td>3</td>\n",
       "    </tr>\n",
       "    <tr>\n",
       "      <th>1</th>\n",
       "      <td>2016-05-31 18:48:00</td>\n",
       "      <td>413</td>\n",
       "      <td>1</td>\n",
       "      <td>COD</td>\n",
       "      <td>15</td>\n",
       "      <td>CameraAccessory</td>\n",
       "      <td>848</td>\n",
       "      <td>2</td>\n",
       "    </tr>\n",
       "    <tr>\n",
       "      <th>2</th>\n",
       "      <td>2016-05-30 17:51:00</td>\n",
       "      <td>378</td>\n",
       "      <td>1</td>\n",
       "      <td>Prepaid</td>\n",
       "      <td>9</td>\n",
       "      <td>CameraAccessory</td>\n",
       "      <td>848</td>\n",
       "      <td>2</td>\n",
       "    </tr>\n",
       "    <tr>\n",
       "      <th>3</th>\n",
       "      <td>2016-05-30 17:51:00</td>\n",
       "      <td>664</td>\n",
       "      <td>1</td>\n",
       "      <td>COD</td>\n",
       "      <td>6</td>\n",
       "      <td>CameraAccessory</td>\n",
       "      <td>1448</td>\n",
       "      <td>4</td>\n",
       "    </tr>\n",
       "    <tr>\n",
       "      <th>4</th>\n",
       "      <td>2016-05-28 22:27:00</td>\n",
       "      <td>372</td>\n",
       "      <td>1</td>\n",
       "      <td>Prepaid</td>\n",
       "      <td>6</td>\n",
       "      <td>GamingHardware</td>\n",
       "      <td>348</td>\n",
       "      <td>3</td>\n",
       "    </tr>\n",
       "  </tbody>\n",
       "</table>\n",
       "</div>"
      ],
      "text/plain": [
       "            OrderDate  GMV  Units PaymentType  SLA         Category  \\\n",
       "0 2016-06-11 11:52:00  607      1     Prepaid    6  CameraAccessory   \n",
       "1 2016-05-31 18:48:00  413      1         COD   15  CameraAccessory   \n",
       "2 2016-05-30 17:51:00  378      1     Prepaid    9  CameraAccessory   \n",
       "3 2016-05-30 17:51:00  664      1         COD    6  CameraAccessory   \n",
       "4 2016-05-28 22:27:00  372      1     Prepaid    6   GamingHardware   \n",
       "\n",
       "   MarkedPrice  SLA.1  \n",
       "0         1339      3  \n",
       "1          848      2  \n",
       "2          848      2  \n",
       "3         1448      4  \n",
       "4          348      3  "
      ]
     },
     "execution_count": 5,
     "metadata": {},
     "output_type": "execute_result"
    }
   ],
   "source": [
    "data.head()"
   ]
  },
  {
   "cell_type": "code",
   "execution_count": 6,
   "id": "d5de4a82",
   "metadata": {},
   "outputs": [
    {
     "name": "stdout",
     "output_type": "stream",
     "text": [
      "<class 'pandas.core.frame.DataFrame'>\n",
      "RangeIndex: 1048575 entries, 0 to 1048574\n",
      "Data columns (total 8 columns):\n",
      " #   Column       Non-Null Count    Dtype         \n",
      "---  ------       --------------    -----         \n",
      " 0   OrderDate    1048575 non-null  datetime64[ns]\n",
      " 1   GMV          1048482 non-null  object        \n",
      " 2   Units        1048575 non-null  int64         \n",
      " 3   PaymentType  1048575 non-null  object        \n",
      " 4   SLA          1048575 non-null  int64         \n",
      " 5   Category     1048575 non-null  object        \n",
      " 6   MarkedPrice  1048575 non-null  int64         \n",
      " 7   SLA.1        1048575 non-null  int64         \n",
      "dtypes: datetime64[ns](1), int64(4), object(3)\n",
      "memory usage: 64.0+ MB\n"
     ]
    }
   ],
   "source": [
    "data.info()"
   ]
  },
  {
   "cell_type": "code",
   "execution_count": 7,
   "id": "c7cddfa8",
   "metadata": {},
   "outputs": [
    {
     "data": {
      "text/plain": [
       "PaymentType\n",
       "COD        742886\n",
       "Prepaid    305689\n",
       "Name: count, dtype: int64"
      ]
     },
     "execution_count": 7,
     "metadata": {},
     "output_type": "execute_result"
    }
   ],
   "source": [
    "data['PaymentType'].value_counts()"
   ]
  },
  {
   "cell_type": "code",
   "execution_count": 9,
   "id": "3f8f8476",
   "metadata": {},
   "outputs": [],
   "source": [
    "data['GMV'] = pd.to_numeric(data['GMV'], errors='coerce')"
   ]
  },
  {
   "cell_type": "code",
   "execution_count": 10,
   "id": "cf0b4ff8",
   "metadata": {},
   "outputs": [
    {
     "data": {
      "text/plain": [
       "GMV\n",
       "999.0      31955\n",
       "169.0      20228\n",
       "799.0      17901\n",
       "1999.0     14692\n",
       "699.0      13793\n",
       "           ...  \n",
       "12203.0        1\n",
       "20780.0        1\n",
       "34856.0        1\n",
       "71433.0        1\n",
       "73975.0        1\n",
       "Name: count, Length: 10876, dtype: int64"
      ]
     },
     "execution_count": 10,
     "metadata": {},
     "output_type": "execute_result"
    }
   ],
   "source": [
    "data['GMV'].value_counts()"
   ]
  },
  {
   "cell_type": "code",
   "execution_count": 11,
   "id": "00dca1e2",
   "metadata": {},
   "outputs": [
    {
     "data": {
      "text/plain": [
       "SLA\n",
       "6      147926\n",
       "5      147809\n",
       "4      141495\n",
       "7      129263\n",
       "3      116288\n",
       "8      101084\n",
       "2       72703\n",
       "9       64107\n",
       "1       38513\n",
       "10      38206\n",
       "11      21681\n",
       "12      12822\n",
       "13       7176\n",
       "14       3857\n",
       "15       2013\n",
       "16       1097\n",
       "0        1017\n",
       "17        567\n",
       "18        319\n",
       "19        195\n",
       "20         97\n",
       "25         45\n",
       "21         45\n",
       "23         34\n",
       "22         31\n",
       "26         30\n",
       "30         27\n",
       "24         26\n",
       "27         26\n",
       "28         19\n",
       "29         16\n",
       "31          9\n",
       "39          5\n",
       "42          4\n",
       "33          3\n",
       "35          3\n",
       "38          3\n",
       "37          2\n",
       "40          2\n",
       "41          2\n",
       "32          1\n",
       "184         1\n",
       "145         1\n",
       "175         1\n",
       "45          1\n",
       "44          1\n",
       "56          1\n",
       "60          1\n",
       "Name: count, dtype: int64"
      ]
     },
     "execution_count": 11,
     "metadata": {},
     "output_type": "execute_result"
    }
   ],
   "source": [
    "data['SLA'].value_counts()"
   ]
  },
  {
   "cell_type": "code",
   "execution_count": 12,
   "id": "63deb9d9",
   "metadata": {},
   "outputs": [
    {
     "data": {
      "text/plain": [
       "Category\n",
       "EntertainmentSmall    598423\n",
       "CameraAccessory       163034\n",
       "GamingHardware        147568\n",
       "Camera                 71900\n",
       "GameCDDVD              67650\n",
       "Name: count, dtype: int64"
      ]
     },
     "execution_count": 12,
     "metadata": {},
     "output_type": "execute_result"
    }
   ],
   "source": [
    "data['Category'].value_counts()"
   ]
  },
  {
   "cell_type": "code",
   "execution_count": 13,
   "id": "1f5bc490",
   "metadata": {},
   "outputs": [],
   "source": [
    "from sklearn.preprocessing import LabelEncoder"
   ]
  },
  {
   "cell_type": "code",
   "execution_count": null,
   "id": "1064fc15",
   "metadata": {},
   "outputs": [],
   "source": []
  }
 ],
 "metadata": {
  "kernelspec": {
   "display_name": "Python 3 (ipykernel)",
   "language": "python",
   "name": "python3"
  },
  "language_info": {
   "codemirror_mode": {
    "name": "ipython",
    "version": 3
   },
   "file_extension": ".py",
   "mimetype": "text/x-python",
   "name": "python",
   "nbconvert_exporter": "python",
   "pygments_lexer": "ipython3",
   "version": "3.11.5"
  }
 },
 "nbformat": 4,
 "nbformat_minor": 5
}
