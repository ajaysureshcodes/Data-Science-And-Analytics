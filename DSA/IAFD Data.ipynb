{
 "cells": [
  {
   "cell_type": "code",
   "execution_count": 1,
   "id": "a1f47cba",
   "metadata": {},
   "outputs": [],
   "source": [
    "import numpy as np\n",
    "import pandas as pd\n",
    "import matplotlib.pyplot as plt\n",
    "import seaborn as sns\n",
    "from IPython.display import display\n",
    "import sklearn.preprocessing as sk\n",
    "from sklearn.model_selection import train_test_split\n",
    "from sklearn.linear_model import LinearRegression, Lasso\n",
    "from sklearn.metrics import mean_squared_error, r2_score"
   ]
  },
  {
   "cell_type": "code",
   "execution_count": 2,
   "id": "02a9a45b",
   "metadata": {},
   "outputs": [],
   "source": [
    "df = pd.read_csv(r\"F:\\DSA\\Data Sets\\IAFD DEAD.csv\", encoding='ISO-8859-1')"
   ]
  },
  {
   "cell_type": "code",
   "execution_count": 3,
   "id": "09a7baf3",
   "metadata": {},
   "outputs": [],
   "source": [
    "df.drop('Photo', axis = 1, inplace = True)"
   ]
  },
  {
   "cell_type": "code",
   "execution_count": 4,
   "id": "e8f6af99",
   "metadata": {},
   "outputs": [
    {
     "data": {
      "text/html": [
       "<div>\n",
       "<style scoped>\n",
       "    .dataframe tbody tr th:only-of-type {\n",
       "        vertical-align: middle;\n",
       "    }\n",
       "\n",
       "    .dataframe tbody tr th {\n",
       "        vertical-align: top;\n",
       "    }\n",
       "\n",
       "    .dataframe thead th {\n",
       "        text-align: right;\n",
       "    }\n",
       "</style>\n",
       "<table border=\"1\" class=\"dataframe\">\n",
       "  <thead>\n",
       "    <tr style=\"text-align: right;\">\n",
       "      <th></th>\n",
       "      <th>Name</th>\n",
       "      <th>Cause</th>\n",
       "      <th>Short Note</th>\n",
       "      <th>Date of Death</th>\n",
       "      <th>Long Description</th>\n",
       "    </tr>\n",
       "  </thead>\n",
       "  <tbody>\n",
       "    <tr>\n",
       "      <th>0</th>\n",
       "      <td>A.J. Kahn</td>\n",
       "      <td>Unsure</td>\n",
       "      <td>NaN</td>\n",
       "      <td>2021 December 25</td>\n",
       "      <td>More Info</td>\n",
       "    </tr>\n",
       "    <tr>\n",
       "      <th>1</th>\n",
       "      <td>Adam Faust</td>\n",
       "      <td>Medical</td>\n",
       "      <td>Cardiac Arrest</td>\n",
       "      <td>2021 August 2</td>\n",
       "      <td>More Info</td>\n",
       "    </tr>\n",
       "    <tr>\n",
       "      <th>2</th>\n",
       "      <td>Adam Wilde</td>\n",
       "      <td>Unsure</td>\n",
       "      <td>NaN</td>\n",
       "      <td>2008 June 4</td>\n",
       "      <td>NaN</td>\n",
       "    </tr>\n",
       "    <tr>\n",
       "      <th>3</th>\n",
       "      <td>Adonis Cheeks</td>\n",
       "      <td>Suicide</td>\n",
       "      <td>NaN</td>\n",
       "      <td>2019 November 1</td>\n",
       "      <td>Exact date of death unknown at this time.\\nDat...</td>\n",
       "    </tr>\n",
       "    <tr>\n",
       "      <th>4</th>\n",
       "      <td>Adrian Hoven</td>\n",
       "      <td>Medical</td>\n",
       "      <td>NaN</td>\n",
       "      <td>1981 April 8</td>\n",
       "      <td>NaN</td>\n",
       "    </tr>\n",
       "    <tr>\n",
       "      <th>...</th>\n",
       "      <td>...</td>\n",
       "      <td>...</td>\n",
       "      <td>...</td>\n",
       "      <td>...</td>\n",
       "      <td>...</td>\n",
       "    </tr>\n",
       "    <tr>\n",
       "      <th>1676</th>\n",
       "      <td>Zeff Ryan</td>\n",
       "      <td>AIDS</td>\n",
       "      <td>AIDS</td>\n",
       "      <td>1/94</td>\n",
       "      <td>AKA Jeff Ryan</td>\n",
       "    </tr>\n",
       "    <tr>\n",
       "      <th>1677</th>\n",
       "      <td>Zenya Lai</td>\n",
       "      <td>Unsure</td>\n",
       "      <td>NaN</td>\n",
       "      <td>2022 December 16</td>\n",
       "      <td>NaN</td>\n",
       "    </tr>\n",
       "    <tr>\n",
       "      <th>1678</th>\n",
       "      <td>Zoe Parker</td>\n",
       "      <td>Unsure</td>\n",
       "      <td>NaN</td>\n",
       "      <td>2020 September 12</td>\n",
       "      <td>NaN</td>\n",
       "    </tr>\n",
       "    <tr>\n",
       "      <th>1679</th>\n",
       "      <td>Zoraya Mora</td>\n",
       "      <td>Murder</td>\n",
       "      <td>NaN</td>\n",
       "      <td>2019 March 28</td>\n",
       "      <td>NaN</td>\n",
       "    </tr>\n",
       "    <tr>\n",
       "      <th>1680</th>\n",
       "      <td>Zozimo Bulbul</td>\n",
       "      <td>Medical</td>\n",
       "      <td>Cancer</td>\n",
       "      <td>2013 January 24</td>\n",
       "      <td>NaN</td>\n",
       "    </tr>\n",
       "  </tbody>\n",
       "</table>\n",
       "<p>1681 rows × 5 columns</p>\n",
       "</div>"
      ],
      "text/plain": [
       "               Name    Cause      Short Note      Date of Death  \\\n",
       "0         A.J. Kahn   Unsure             NaN   2021 December 25   \n",
       "1        Adam Faust  Medical  Cardiac Arrest      2021 August 2   \n",
       "2        Adam Wilde   Unsure             NaN        2008 June 4   \n",
       "3     Adonis Cheeks  Suicide             NaN    2019 November 1   \n",
       "4      Adrian Hoven  Medical             NaN       1981 April 8   \n",
       "...             ...      ...             ...                ...   \n",
       "1676      Zeff Ryan     AIDS            AIDS               1/94   \n",
       "1677      Zenya Lai   Unsure             NaN   2022 December 16   \n",
       "1678     Zoe Parker   Unsure             NaN  2020 September 12   \n",
       "1679    Zoraya Mora   Murder             NaN      2019 March 28   \n",
       "1680  Zozimo Bulbul  Medical          Cancer    2013 January 24   \n",
       "\n",
       "                                       Long Description  \n",
       "0                                             More Info  \n",
       "1                                             More Info  \n",
       "2                                                   NaN  \n",
       "3     Exact date of death unknown at this time.\\nDat...  \n",
       "4                                                   NaN  \n",
       "...                                                 ...  \n",
       "1676                                      AKA Jeff Ryan  \n",
       "1677                                                NaN  \n",
       "1678                                                NaN  \n",
       "1679                                                NaN  \n",
       "1680                                                NaN  \n",
       "\n",
       "[1681 rows x 5 columns]"
      ]
     },
     "execution_count": 4,
     "metadata": {},
     "output_type": "execute_result"
    }
   ],
   "source": [
    "df"
   ]
  },
  {
   "cell_type": "code",
   "execution_count": 5,
   "id": "e830b2d8",
   "metadata": {},
   "outputs": [
    {
     "data": {
      "text/plain": [
       "Name                  0\n",
       "Cause                 0\n",
       "Short Note          881\n",
       "Date of Death         9\n",
       "Long Description    945\n",
       "dtype: int64"
      ]
     },
     "execution_count": 5,
     "metadata": {},
     "output_type": "execute_result"
    }
   ],
   "source": [
    "df.isnull().sum()"
   ]
  },
  {
   "cell_type": "code",
   "execution_count": 6,
   "id": "8d359cc9",
   "metadata": {},
   "outputs": [
    {
     "name": "stdout",
     "output_type": "stream",
     "text": [
      "<class 'pandas.core.frame.DataFrame'>\n",
      "RangeIndex: 1681 entries, 0 to 1680\n",
      "Data columns (total 5 columns):\n",
      " #   Column            Non-Null Count  Dtype \n",
      "---  ------            --------------  ----- \n",
      " 0   Name              1681 non-null   object\n",
      " 1   Cause             1681 non-null   object\n",
      " 2   Short Note        800 non-null    object\n",
      " 3   Date of Death     1672 non-null   object\n",
      " 4   Long Description  736 non-null    object\n",
      "dtypes: object(5)\n",
      "memory usage: 65.8+ KB\n"
     ]
    }
   ],
   "source": [
    "df.info()"
   ]
  },
  {
   "cell_type": "code",
   "execution_count": 43,
   "id": "cf15cbbe",
   "metadata": {},
   "outputs": [
    {
     "data": {
      "text/plain": [
       "Cause\n",
       "Medical       693\n",
       "Unsure        440\n",
       "AIDS          120\n",
       "Suicide       113\n",
       "Murder         81\n",
       "Unknown        79\n",
       "Accidental     77\n",
       "Overdose       75\n",
       "Not Dead        2\n",
       "unknown         1\n",
       "Name: count, dtype: int64"
      ]
     },
     "execution_count": 43,
     "metadata": {},
     "output_type": "execute_result"
    }
   ],
   "source": [
    "df['Cause'].value_counts().sort_values(ascending = False)"
   ]
  },
  {
   "cell_type": "code",
   "execution_count": 7,
   "id": "fe026c82",
   "metadata": {},
   "outputs": [
    {
     "data": {
      "text/plain": [
       "array(['Unsure', 'Medical', 'Suicide', 'Murder', 'AIDS', 'Unknown',\n",
       "       'Accidental', 'Overdose', 'unknown', 'Not Dead'], dtype=object)"
      ]
     },
     "execution_count": 7,
     "metadata": {},
     "output_type": "execute_result"
    }
   ],
   "source": [
    "df['Cause'].unique()"
   ]
  },
  {
   "cell_type": "code",
   "execution_count": 8,
   "id": "c6e24b5a",
   "metadata": {},
   "outputs": [],
   "source": [
    "from datetime import datetime\n",
    "df['Date of Death'] = pd.to_datetime(df['Date of Death'], format='%Y %B %d', errors='coerce')"
   ]
  },
  {
   "cell_type": "code",
   "execution_count": 9,
   "id": "c3cb0e1f",
   "metadata": {},
   "outputs": [],
   "source": [
    "df_1995 = df[df['Date of Death'].dt.year >= 1995]\n",
    "df_1990 = df[df['Date of Death'].dt.year >= 1990]\n",
    "df_1985 = df[df['Date of Death'].dt.year >= 1985]"
   ]
  },
  {
   "cell_type": "code",
   "execution_count": 10,
   "id": "e2fde2c9",
   "metadata": {
    "scrolled": true
   },
   "outputs": [
    {
     "name": "stdout",
     "output_type": "stream",
     "text": [
      "<class 'pandas.core.frame.DataFrame'>\n",
      "Index: 1390 entries, 0 to 1680\n",
      "Data columns (total 5 columns):\n",
      " #   Column            Non-Null Count  Dtype         \n",
      "---  ------            --------------  -----         \n",
      " 0   Name              1390 non-null   object        \n",
      " 1   Cause             1390 non-null   object        \n",
      " 2   Short Note        650 non-null    object        \n",
      " 3   Date of Death     1390 non-null   datetime64[ns]\n",
      " 4   Long Description  628 non-null    object        \n",
      "dtypes: datetime64[ns](1), object(4)\n",
      "memory usage: 65.2+ KB\n"
     ]
    }
   ],
   "source": [
    "df_1995.info()"
   ]
  },
  {
   "cell_type": "code",
   "execution_count": 11,
   "id": "a6608fd3",
   "metadata": {},
   "outputs": [
    {
     "name": "stdout",
     "output_type": "stream",
     "text": [
      "<class 'pandas.core.frame.DataFrame'>\n",
      "Index: 1503 entries, 0 to 1680\n",
      "Data columns (total 5 columns):\n",
      " #   Column            Non-Null Count  Dtype         \n",
      "---  ------            --------------  -----         \n",
      " 0   Name              1503 non-null   object        \n",
      " 1   Cause             1503 non-null   object        \n",
      " 2   Short Note        717 non-null    object        \n",
      " 3   Date of Death     1503 non-null   datetime64[ns]\n",
      " 4   Long Description  670 non-null    object        \n",
      "dtypes: datetime64[ns](1), object(4)\n",
      "memory usage: 70.5+ KB\n"
     ]
    }
   ],
   "source": [
    "df_1990.info()"
   ]
  },
  {
   "cell_type": "code",
   "execution_count": 12,
   "id": "1254a91b",
   "metadata": {},
   "outputs": [
    {
     "name": "stdout",
     "output_type": "stream",
     "text": [
      "<class 'pandas.core.frame.DataFrame'>\n",
      "Index: 1576 entries, 0 to 1680\n",
      "Data columns (total 5 columns):\n",
      " #   Column            Non-Null Count  Dtype         \n",
      "---  ------            --------------  -----         \n",
      " 0   Name              1576 non-null   object        \n",
      " 1   Cause             1576 non-null   object        \n",
      " 2   Short Note        753 non-null    object        \n",
      " 3   Date of Death     1576 non-null   datetime64[ns]\n",
      " 4   Long Description  708 non-null    object        \n",
      "dtypes: datetime64[ns](1), object(4)\n",
      "memory usage: 73.9+ KB\n"
     ]
    }
   ],
   "source": [
    "df_1985.info()"
   ]
  },
  {
   "cell_type": "code",
   "execution_count": 13,
   "id": "49429d04",
   "metadata": {},
   "outputs": [
    {
     "data": {
      "text/plain": [
       "(1390, 5)"
      ]
     },
     "execution_count": 13,
     "metadata": {},
     "output_type": "execute_result"
    }
   ],
   "source": [
    "df_1995.shape"
   ]
  },
  {
   "cell_type": "code",
   "execution_count": 14,
   "id": "5f2ade7e",
   "metadata": {
    "scrolled": true
   },
   "outputs": [
    {
     "name": "stdout",
     "output_type": "stream",
     "text": [
      "(1503, 5)\n",
      "(1576, 5)\n"
     ]
    }
   ],
   "source": [
    "print(df_1990.shape)\n",
    "print(df_1985.shape)"
   ]
  },
  {
   "cell_type": "code",
   "execution_count": 15,
   "id": "4eaf32bb",
   "metadata": {},
   "outputs": [],
   "source": [
    "def filter_cause_of_death(df):\n",
    "    causes_to_consider = ['Suicide', 'Murder', 'AIDS', 'Overdose', 'Medical', 'Unsure', 'Accidental']\n",
    "    keep_rows = df['Cause'].apply(lambda x: any(cause in x for cause in causes_to_consider)) | ~(df['Short Note'].isnull() & df['Long Description'].isnull())\n",
    "    return df[keep_rows]\n",
    "\n",
    "df_1995 = filter_cause_of_death(df_1995.copy())\n",
    "df_1990 = filter_cause_of_death(df_1990.copy())\n",
    "df_1985 = filter_cause_of_death(df_1985.copy())"
   ]
  },
  {
   "cell_type": "code",
   "execution_count": 16,
   "id": "437912b7",
   "metadata": {},
   "outputs": [
    {
     "data": {
      "text/plain": [
       "1332"
      ]
     },
     "execution_count": 16,
     "metadata": {},
     "output_type": "execute_result"
    }
   ],
   "source": [
    "df_1995.shape[0]"
   ]
  },
  {
   "cell_type": "code",
   "execution_count": 17,
   "id": "9ee8a677",
   "metadata": {},
   "outputs": [],
   "source": [
    "df_1995 = df_1995.drop_duplicates()"
   ]
  },
  {
   "cell_type": "code",
   "execution_count": 20,
   "id": "af344e1c",
   "metadata": {},
   "outputs": [
    {
     "name": "stdout",
     "output_type": "stream",
     "text": [
      "The leading cause of death is 'Medical' with 175 occurrences.\n",
      "Total occurrences across all columns: 493\n",
      "\n",
      "37.98% of actors are recorded to be dead related to the search variables\n"
     ]
    }
   ],
   "source": [
    "search_terms = ['Aids', 'aids', 'Suicide', 'suicide', 'meth', 'methamphetamine',\n",
    "                'Methamphetamine', 'gun', 'Gun', 'Self', 'self', 'asphyxiation', \n",
    "                'hang', 'abuse', 'drugs', 'attack', 'cocaine', 'Cocaine',\n",
    "                'car crash', 'partner', 'cancer', 'Cancer', 'OD', 'Overdose',\n",
    "                'overdose', 'Murder', 'murder', 'murdered', 'boyfriend', 'husband', 'heart attack', 'stroke', 'Stroke']\n",
    "\n",
    "exclude_terms = ['Suicide', 'Murder', 'AIDS', 'Overdose']\n",
    "\n",
    "total_occurrence = 0\n",
    "\n",
    "from collections import Counter\n",
    "\n",
    "cause_counter = Counter()\n",
    "\n",
    "for index, row in df_1995.iterrows():\n",
    "    if any(term in row['Cause'] for term in exclude_terms):\n",
    "        total_occurrence += 1\n",
    "        continue\n",
    "\n",
    "    if isinstance(row['Short Note'], str):\n",
    "        short_note_matched = any(term.lower() in row['Short Note'].lower() for term in search_terms)\n",
    "    else:\n",
    "        short_note_matched = False\n",
    "        \n",
    "    if isinstance(row['Long Description'], str):\n",
    "        long_desc_matched = any(term.lower() in row['Long Description'].lower() for term in search_terms)\n",
    "    else:\n",
    "        long_desc_matched = False\n",
    "    \n",
    "    if short_note_matched or long_desc_matched:\n",
    "        cause_counter[row['Cause']] += 1\n",
    "\n",
    "leading_cause = cause_counter.most_common(1)\n",
    "if leading_cause:\n",
    "    leading_cause_name, leading_cause_count = leading_cause[0]\n",
    "    print(f\"The leading cause of death is '{leading_cause_name}' with {leading_cause_count} occurrences.\")\n",
    "else:\n",
    "    print(\"No leading cause of death found.\")\n",
    "\n",
    "total_occurrence += sum(cause_counter.values())\n",
    "print(\"Total occurrences across all columns:\", total_occurrence)\n",
    "\n",
    "x_1995 = (total_occurrence / df_1995.shape[0]) * 100\n",
    "print(f\"\\n{x_1995:.2f}% of actors are recorded to be dead related to the search variables\")"
   ]
  },
  {
   "cell_type": "code",
   "execution_count": 21,
   "id": "6429b738",
   "metadata": {},
   "outputs": [],
   "source": [
    "df_1990 = df_1990.drop_duplicates()"
   ]
  },
  {
   "cell_type": "code",
   "execution_count": 22,
   "id": "18d9ff23",
   "metadata": {},
   "outputs": [
    {
     "data": {
      "text/plain": [
       "1406"
      ]
     },
     "execution_count": 22,
     "metadata": {},
     "output_type": "execute_result"
    }
   ],
   "source": [
    "df_1990.shape[0]"
   ]
  },
  {
   "cell_type": "code",
   "execution_count": 23,
   "id": "57e5d759",
   "metadata": {},
   "outputs": [
    {
     "name": "stdout",
     "output_type": "stream",
     "text": [
      "The leading cause of death is 'Medical' with 185 occurrences.\n",
      "Total occurrences across all columns: 552\n",
      "\n",
      "39.26% of actors are recorded to be dead related to the search variables\n"
     ]
    }
   ],
   "source": [
    "search_terms = ['Aids', 'aids', 'Suicide', 'suicide', 'meth', 'methamphetamine',\n",
    "                'Methamphetamine', 'gun', 'Gun', 'Self', 'self', 'asphyxiation', \n",
    "                'hang', 'abuse', 'drugs', 'attack', 'cocaine', 'Cocaine',\n",
    "                'car crash', 'partner', 'cancer', 'Cancer', 'OD', 'Overdose',\n",
    "                'overdose', 'Murder', 'murder', 'murdered', 'boyfriend', 'husband',\n",
    "                'heart attack', 'stroke', 'Stroke']\n",
    "\n",
    "exclude_terms = ['Suicide', 'Murder', 'AIDS', 'Overdose']\n",
    "\n",
    "total_occurrence = 0\n",
    "\n",
    "from collections import Counter\n",
    "\n",
    "cause_counter = Counter()\n",
    "\n",
    "for index, row in df_1990.iterrows():\n",
    "    if any(term in row['Cause'] for term in exclude_terms):\n",
    "        total_occurrence += 1\n",
    "        continue\n",
    "\n",
    "    if isinstance(row['Short Note'], str):\n",
    "        short_note_matched = any(term.lower() in row['Short Note'].lower() for term in search_terms)\n",
    "    else:\n",
    "        short_note_matched = False\n",
    "        \n",
    "    if isinstance(row['Long Description'], str):\n",
    "        long_desc_matched = any(term.lower() in row['Long Description'].lower() for term in search_terms)\n",
    "    else:\n",
    "        long_desc_matched = False\n",
    "    \n",
    "    if short_note_matched or long_desc_matched:\n",
    "        cause_counter[row['Cause']] += 1\n",
    "\n",
    "leading_cause = cause_counter.most_common(1)\n",
    "if leading_cause:\n",
    "    leading_cause_name, leading_cause_count = leading_cause[0]\n",
    "    print(f\"The leading cause of death is '{leading_cause_name}' with {leading_cause_count} occurrences.\")\n",
    "else:\n",
    "    print(\"No leading cause of death found.\")\n",
    "\n",
    "total_occurrence += sum(cause_counter.values())\n",
    "print(\"Total occurrences across all columns:\", total_occurrence)\n",
    "\n",
    "x_1990 = (total_occurrence / df_1990.shape[0]) * 100\n",
    "print(f\"\\n{x_1990:.2f}% of actors are recorded to be dead related to the search variables\")"
   ]
  },
  {
   "cell_type": "code",
   "execution_count": 24,
   "id": "a90c0de6",
   "metadata": {},
   "outputs": [],
   "source": [
    "df_1985 = df_1985.drop_duplicates()"
   ]
  },
  {
   "cell_type": "code",
   "execution_count": 25,
   "id": "fa56c154",
   "metadata": {},
   "outputs": [
    {
     "data": {
      "text/plain": [
       "1475"
      ]
     },
     "execution_count": 25,
     "metadata": {},
     "output_type": "execute_result"
    }
   ],
   "source": [
    "df_1985.shape[0]"
   ]
  },
  {
   "cell_type": "code",
   "execution_count": 26,
   "id": "4acd4e87",
   "metadata": {},
   "outputs": [
    {
     "name": "stdout",
     "output_type": "stream",
     "text": [
      "The leading cause of death is 'Medical' with 184 occurrences.\n",
      "Total occurrences across all columns: 581\n",
      "\n",
      "39.39% of actors are recorded to be dead related to the search variables\n"
     ]
    }
   ],
   "source": [
    "search_terms = ['Aids', 'aids', 'Suicide', 'suicide', 'meth', 'methamphetamine',\n",
    "                'Methamphetamine', 'gun', 'Gun', 'Self', 'self', 'asphyxiation', \n",
    "                'hang', 'abuse', 'drugs', 'attack', 'cocaine', 'Cocaine',\n",
    "                'car crash', 'partner', 'cancer', 'Cancer', 'OD', 'Overdose',\n",
    "                'overdose', 'Murder', 'murder', 'murdered', 'boyfriend', 'husband']\n",
    "\n",
    "exclude_terms = ['Suicide', 'Murder', 'AIDS', 'Overdose']\n",
    "\n",
    "total_occurrence = 0\n",
    "\n",
    "from collections import Counter\n",
    "\n",
    "cause_counter = Counter()\n",
    "\n",
    "for index, row in df_1985.iterrows():\n",
    "    if any(term in row['Cause'] for term in exclude_terms):\n",
    "        total_occurrence += 1\n",
    "        continue\n",
    "\n",
    "    if isinstance(row['Short Note'], str):\n",
    "        short_note_matched = any(term.lower() in row['Short Note'].lower() for term in search_terms)\n",
    "    else:\n",
    "        short_note_matched = False\n",
    "        \n",
    "    if isinstance(row['Long Description'], str):\n",
    "        long_desc_matched = any(term.lower() in row['Long Description'].lower() for term in search_terms)\n",
    "    else:\n",
    "        long_desc_matched = False\n",
    "    \n",
    "    if short_note_matched or long_desc_matched:\n",
    "        cause_counter[row['Cause']] += 1\n",
    "\n",
    "leading_cause = cause_counter.most_common(1)\n",
    "if leading_cause:\n",
    "    leading_cause_name, leading_cause_count = leading_cause[0]\n",
    "    print(f\"The leading cause of death is '{leading_cause_name}' with {leading_cause_count} occurrences.\")\n",
    "else:\n",
    "    print(\"No leading cause of death found.\")\n",
    "\n",
    "total_occurrence += sum(cause_counter.values())\n",
    "print(\"Total occurrences across all columns:\", total_occurrence)\n",
    "\n",
    "x_1985 = (total_occurrence / df_1985.shape[0]) * 100\n",
    "print(f\"\\n{x_1985:.2f}% of actors are recorded to be dead related to the search variables\")"
   ]
  },
  {
   "cell_type": "code",
   "execution_count": 42,
   "id": "dc0ce727",
   "metadata": {},
   "outputs": [
    {
     "data": {
      "text/html": [
       "<div>\n",
       "<style scoped>\n",
       "    .dataframe tbody tr th:only-of-type {\n",
       "        vertical-align: middle;\n",
       "    }\n",
       "\n",
       "    .dataframe tbody tr th {\n",
       "        vertical-align: top;\n",
       "    }\n",
       "\n",
       "    .dataframe thead th {\n",
       "        text-align: right;\n",
       "    }\n",
       "</style>\n",
       "<table border=\"1\" class=\"dataframe\">\n",
       "  <thead>\n",
       "    <tr style=\"text-align: right;\">\n",
       "      <th></th>\n",
       "      <th>Name</th>\n",
       "      <th>Cause</th>\n",
       "      <th>Short Note</th>\n",
       "      <th>Date of Death</th>\n",
       "      <th>Long Description</th>\n",
       "    </tr>\n",
       "  </thead>\n",
       "  <tbody>\n",
       "    <tr>\n",
       "      <th>0</th>\n",
       "      <td>A.J. Kahn</td>\n",
       "      <td>Unsure</td>\n",
       "      <td>NaN</td>\n",
       "      <td>2021-12-25</td>\n",
       "      <td>More Info</td>\n",
       "    </tr>\n",
       "    <tr>\n",
       "      <th>1</th>\n",
       "      <td>Adam Faust</td>\n",
       "      <td>Medical</td>\n",
       "      <td>Cardiac Arrest</td>\n",
       "      <td>2021-08-02</td>\n",
       "      <td>More Info</td>\n",
       "    </tr>\n",
       "    <tr>\n",
       "      <th>3</th>\n",
       "      <td>Adonis Cheeks</td>\n",
       "      <td>Suicide</td>\n",
       "      <td>NaN</td>\n",
       "      <td>2019-11-01</td>\n",
       "      <td>Exact date of death unknown at this time.\\nDat...</td>\n",
       "    </tr>\n",
       "    <tr>\n",
       "      <th>5</th>\n",
       "      <td>Adrianna Analese</td>\n",
       "      <td>Murder</td>\n",
       "      <td>Killed by her husband in a murder-suicide</td>\n",
       "      <td>2008-11-21</td>\n",
       "      <td>NaN</td>\n",
       "    </tr>\n",
       "    <tr>\n",
       "      <th>8</th>\n",
       "      <td>Aiden Bonini</td>\n",
       "      <td>Medical</td>\n",
       "      <td>Meningitis</td>\n",
       "      <td>2007-03-26</td>\n",
       "      <td>\"Aiden was sadly taken from this world earlier...</td>\n",
       "    </tr>\n",
       "    <tr>\n",
       "      <th>...</th>\n",
       "      <td>...</td>\n",
       "      <td>...</td>\n",
       "      <td>...</td>\n",
       "      <td>...</td>\n",
       "      <td>...</td>\n",
       "    </tr>\n",
       "    <tr>\n",
       "      <th>1670</th>\n",
       "      <td>Zac Stevens</td>\n",
       "      <td>Suicide</td>\n",
       "      <td>NaN</td>\n",
       "      <td>2015-11-17</td>\n",
       "      <td>More Info</td>\n",
       "    </tr>\n",
       "    <tr>\n",
       "      <th>1671</th>\n",
       "      <td>Zachary Strong</td>\n",
       "      <td>Unsure</td>\n",
       "      <td>NaN</td>\n",
       "      <td>2023-05-01</td>\n",
       "      <td>More Info</td>\n",
       "    </tr>\n",
       "    <tr>\n",
       "      <th>1672</th>\n",
       "      <td>Zachary Strong</td>\n",
       "      <td>Unsure</td>\n",
       "      <td>NaN</td>\n",
       "      <td>2023-05-01</td>\n",
       "      <td>More Info</td>\n",
       "    </tr>\n",
       "    <tr>\n",
       "      <th>1676</th>\n",
       "      <td>Zeff Ryan</td>\n",
       "      <td>AIDS</td>\n",
       "      <td>AIDS</td>\n",
       "      <td>NaT</td>\n",
       "      <td>AKA Jeff Ryan</td>\n",
       "    </tr>\n",
       "    <tr>\n",
       "      <th>1680</th>\n",
       "      <td>Zozimo Bulbul</td>\n",
       "      <td>Medical</td>\n",
       "      <td>Cancer</td>\n",
       "      <td>2013-01-24</td>\n",
       "      <td>NaN</td>\n",
       "    </tr>\n",
       "  </tbody>\n",
       "</table>\n",
       "<p>971 rows × 5 columns</p>\n",
       "</div>"
      ],
      "text/plain": [
       "                  Name    Cause                                 Short Note  \\\n",
       "0            A.J. Kahn   Unsure                                        NaN   \n",
       "1           Adam Faust  Medical                             Cardiac Arrest   \n",
       "3        Adonis Cheeks  Suicide                                        NaN   \n",
       "5     Adrianna Analese   Murder  Killed by her husband in a murder-suicide   \n",
       "8         Aiden Bonini  Medical                                 Meningitis   \n",
       "...                ...      ...                                        ...   \n",
       "1670       Zac Stevens  Suicide                                        NaN   \n",
       "1671    Zachary Strong   Unsure                                        NaN   \n",
       "1672    Zachary Strong   Unsure                                        NaN   \n",
       "1676         Zeff Ryan     AIDS                                       AIDS   \n",
       "1680     Zozimo Bulbul  Medical                                     Cancer   \n",
       "\n",
       "     Date of Death                                   Long Description  \n",
       "0       2021-12-25                                          More Info  \n",
       "1       2021-08-02                                          More Info  \n",
       "3       2019-11-01  Exact date of death unknown at this time.\\nDat...  \n",
       "5       2008-11-21                                                NaN  \n",
       "8       2007-03-26  \"Aiden was sadly taken from this world earlier...  \n",
       "...            ...                                                ...  \n",
       "1670    2015-11-17                                          More Info  \n",
       "1671    2023-05-01                                          More Info  \n",
       "1672    2023-05-01                                          More Info  \n",
       "1676           NaT                                      AKA Jeff Ryan  \n",
       "1680    2013-01-24                                                NaN  \n",
       "\n",
       "[971 rows x 5 columns]"
      ]
     },
     "execution_count": 42,
     "metadata": {},
     "output_type": "execute_result"
    }
   ],
   "source": [
    "df_new = df.dropna(subset=['Short Note', 'Long Description'], how='all')\n",
    "df_new"
   ]
  },
  {
   "cell_type": "code",
   "execution_count": 43,
   "id": "80d867e3",
   "metadata": {},
   "outputs": [
    {
     "data": {
      "text/plain": [
       "Cause\n",
       "AIDS           6\n",
       "Accidental     1\n",
       "Medical       33\n",
       "Murder        10\n",
       "Overdose       7\n",
       "Suicide       18\n",
       "Unknown        5\n",
       "Unsure        90\n",
       "unknown        1\n",
       "Name: Short Note, dtype: int64"
      ]
     },
     "execution_count": 43,
     "metadata": {},
     "output_type": "execute_result"
    }
   ],
   "source": [
    "df_new.groupby('Cause')['Short Note'].apply(lambda x: x.isnull().sum())"
   ]
  },
  {
   "cell_type": "code",
   "execution_count": 44,
   "id": "05b00c25",
   "metadata": {},
   "outputs": [
    {
     "data": {
      "text/plain": [
       "Cause\n",
       "AIDS          41\n",
       "Accidental    26\n",
       "Medical       96\n",
       "Murder        17\n",
       "Overdose      13\n",
       "Suicide       18\n",
       "Unknown        1\n",
       "Unsure        23\n",
       "unknown        0\n",
       "Name: Long Description, dtype: int64"
      ]
     },
     "execution_count": 44,
     "metadata": {},
     "output_type": "execute_result"
    }
   ],
   "source": [
    "df_new.groupby('Cause')['Long Description'].apply(lambda x: x.isnull().sum())"
   ]
  },
  {
   "cell_type": "code",
   "execution_count": 45,
   "id": "f10d48a0",
   "metadata": {},
   "outputs": [
    {
     "name": "stdout",
     "output_type": "stream",
     "text": [
      "The leading cause of death is 'Medical' with 204 occurrences.\n",
      "Total occurrences across all columns: 588\n",
      "\n",
      "60.56% of actors are recorded to be dead related to the search variables\n"
     ]
    }
   ],
   "source": [
    "search_terms = ['Aids', 'aids', 'Suicide', 'suicide', 'meth', 'methamphetamine',\n",
    "                'Methamphetamine', 'gun', 'Gun', 'Self', 'self', 'asphyxiation', \n",
    "                'hang', 'abuse', 'drugs', 'attack', 'cocaine', 'Cocaine',\n",
    "                'car crash', 'partner', 'cancer', 'Cancer', 'OD', 'Overdose',\n",
    "                'overdose', 'Murder', 'murder', 'murdered', 'boyfriend', 'husband',\n",
    "                'heart attack', 'stroke', 'Stroke']\n",
    "\n",
    "exclude_terms = ['Suicide', 'Murder', 'AIDS', 'Overdose']\n",
    "\n",
    "total_occurrence = 0\n",
    "\n",
    "from collections import Counter\n",
    "\n",
    "cause_counter = Counter()\n",
    "\n",
    "for index, row in df_new.iterrows():\n",
    "    if any(term in row['Cause'] for term in exclude_terms):\n",
    "        total_occurrence += 1\n",
    "        continue\n",
    "\n",
    "    if isinstance(row['Short Note'], str):\n",
    "        short_note_matched = any(term.lower() in row['Short Note'].lower() for term in search_terms)\n",
    "    else:\n",
    "        short_note_matched = False\n",
    "        \n",
    "    if isinstance(row['Long Description'], str):\n",
    "        long_desc_matched = any(term.lower() in row['Long Description'].lower() for term in search_terms)\n",
    "    else:\n",
    "        long_desc_matched = False\n",
    "    \n",
    "    if short_note_matched or long_desc_matched:\n",
    "        cause_counter[row['Cause']] += 1\n",
    "\n",
    "leading_cause = cause_counter.most_common(1)\n",
    "if leading_cause:\n",
    "    leading_cause_name, leading_cause_count = leading_cause[0]\n",
    "    print(f\"The leading cause of death is '{leading_cause_name}' with {leading_cause_count} occurrences.\")\n",
    "else:\n",
    "    print(\"No leading cause of death found.\")\n",
    "\n",
    "total_occurrence += sum(cause_counter.values())\n",
    "print(\"Total occurrences across all columns:\", total_occurrence)\n",
    "\n",
    "x_df_new = (total_occurrence / df_new.shape[0]) * 100\n",
    "print(f\"\\n{x_df_new:.2f}% of actors are recorded to be dead related to the search variables\")"
   ]
  },
  {
   "cell_type": "code",
   "execution_count": 62,
   "id": "5f41c665",
   "metadata": {},
   "outputs": [],
   "source": [
    "df_alt = df[~((df['Short Note'].isna()) & (df['Long Description'] == 'More Info'))]"
   ]
  },
  {
   "cell_type": "code",
   "execution_count": 63,
   "id": "fe586090",
   "metadata": {},
   "outputs": [],
   "source": [
    "df_alt = df_alt.dropna(subset=['Short Note', 'Long Description'], how='all')"
   ]
  },
  {
   "cell_type": "code",
   "execution_count": 64,
   "id": "4cf4a3ea",
   "metadata": {},
   "outputs": [
    {
     "data": {
      "text/html": [
       "<div>\n",
       "<style scoped>\n",
       "    .dataframe tbody tr th:only-of-type {\n",
       "        vertical-align: middle;\n",
       "    }\n",
       "\n",
       "    .dataframe tbody tr th {\n",
       "        vertical-align: top;\n",
       "    }\n",
       "\n",
       "    .dataframe thead th {\n",
       "        text-align: right;\n",
       "    }\n",
       "</style>\n",
       "<table border=\"1\" class=\"dataframe\">\n",
       "  <thead>\n",
       "    <tr style=\"text-align: right;\">\n",
       "      <th></th>\n",
       "      <th>Name</th>\n",
       "      <th>Cause</th>\n",
       "      <th>Short Note</th>\n",
       "      <th>Date of Death</th>\n",
       "      <th>Long Description</th>\n",
       "    </tr>\n",
       "  </thead>\n",
       "  <tbody>\n",
       "    <tr>\n",
       "      <th>1</th>\n",
       "      <td>Adam Faust</td>\n",
       "      <td>Medical</td>\n",
       "      <td>Cardiac Arrest</td>\n",
       "      <td>2021-08-02</td>\n",
       "      <td>More Info</td>\n",
       "    </tr>\n",
       "    <tr>\n",
       "      <th>3</th>\n",
       "      <td>Adonis Cheeks</td>\n",
       "      <td>Suicide</td>\n",
       "      <td>NaN</td>\n",
       "      <td>2019-11-01</td>\n",
       "      <td>Exact date of death unknown at this time.\\nDat...</td>\n",
       "    </tr>\n",
       "    <tr>\n",
       "      <th>5</th>\n",
       "      <td>Adrianna Analese</td>\n",
       "      <td>Murder</td>\n",
       "      <td>Killed by her husband in a murder-suicide</td>\n",
       "      <td>2008-11-21</td>\n",
       "      <td>NaN</td>\n",
       "    </tr>\n",
       "    <tr>\n",
       "      <th>8</th>\n",
       "      <td>Aiden Bonini</td>\n",
       "      <td>Medical</td>\n",
       "      <td>Meningitis</td>\n",
       "      <td>2007-03-26</td>\n",
       "      <td>\"Aiden was sadly taken from this world earlier...</td>\n",
       "    </tr>\n",
       "    <tr>\n",
       "      <th>9</th>\n",
       "      <td>Aileene Dacosta</td>\n",
       "      <td>Medical</td>\n",
       "      <td>She died in 2011 at age 23 of cerebral vascula...</td>\n",
       "      <td>2011-01-23</td>\n",
       "      <td>More Info</td>\n",
       "    </tr>\n",
       "    <tr>\n",
       "      <th>...</th>\n",
       "      <td>...</td>\n",
       "      <td>...</td>\n",
       "      <td>...</td>\n",
       "      <td>...</td>\n",
       "      <td>...</td>\n",
       "    </tr>\n",
       "    <tr>\n",
       "      <th>1665</th>\n",
       "      <td>Yasmin Viana</td>\n",
       "      <td>Medical</td>\n",
       "      <td>Heart Failure</td>\n",
       "      <td>2015-08-11</td>\n",
       "      <td>NaN</td>\n",
       "    </tr>\n",
       "    <tr>\n",
       "      <th>1668</th>\n",
       "      <td>Yumika Hayashi</td>\n",
       "      <td>Unsure</td>\n",
       "      <td>Unknown</td>\n",
       "      <td>2005-06-29</td>\n",
       "      <td>From Jans-Web: [Japanese AV Star] Yumika Hayas...</td>\n",
       "    </tr>\n",
       "    <tr>\n",
       "      <th>1669</th>\n",
       "      <td>Yurizan Beltran</td>\n",
       "      <td>Overdose</td>\n",
       "      <td>Apparent Overdose</td>\n",
       "      <td>2017-12-13</td>\n",
       "      <td>More Info</td>\n",
       "    </tr>\n",
       "    <tr>\n",
       "      <th>1676</th>\n",
       "      <td>Zeff Ryan</td>\n",
       "      <td>AIDS</td>\n",
       "      <td>AIDS</td>\n",
       "      <td>NaT</td>\n",
       "      <td>AKA Jeff Ryan</td>\n",
       "    </tr>\n",
       "    <tr>\n",
       "      <th>1680</th>\n",
       "      <td>Zozimo Bulbul</td>\n",
       "      <td>Medical</td>\n",
       "      <td>Cancer</td>\n",
       "      <td>2013-01-24</td>\n",
       "      <td>NaN</td>\n",
       "    </tr>\n",
       "  </tbody>\n",
       "</table>\n",
       "<p>857 rows × 5 columns</p>\n",
       "</div>"
      ],
      "text/plain": [
       "                  Name     Cause  \\\n",
       "1           Adam Faust   Medical   \n",
       "3        Adonis Cheeks   Suicide   \n",
       "5     Adrianna Analese    Murder   \n",
       "8         Aiden Bonini   Medical   \n",
       "9      Aileene Dacosta   Medical   \n",
       "...                ...       ...   \n",
       "1665      Yasmin Viana   Medical   \n",
       "1668    Yumika Hayashi    Unsure   \n",
       "1669   Yurizan Beltran  Overdose   \n",
       "1676         Zeff Ryan      AIDS   \n",
       "1680     Zozimo Bulbul   Medical   \n",
       "\n",
       "                                             Short Note Date of Death  \\\n",
       "1                                        Cardiac Arrest    2021-08-02   \n",
       "3                                                   NaN    2019-11-01   \n",
       "5             Killed by her husband in a murder-suicide    2008-11-21   \n",
       "8                                            Meningitis    2007-03-26   \n",
       "9     She died in 2011 at age 23 of cerebral vascula...    2011-01-23   \n",
       "...                                                 ...           ...   \n",
       "1665                                      Heart Failure    2015-08-11   \n",
       "1668                                            Unknown    2005-06-29   \n",
       "1669                                  Apparent Overdose    2017-12-13   \n",
       "1676                                               AIDS           NaT   \n",
       "1680                                             Cancer    2013-01-24   \n",
       "\n",
       "                                       Long Description  \n",
       "1                                             More Info  \n",
       "3     Exact date of death unknown at this time.\\nDat...  \n",
       "5                                                   NaN  \n",
       "8     \"Aiden was sadly taken from this world earlier...  \n",
       "9                                             More Info  \n",
       "...                                                 ...  \n",
       "1665                                                NaN  \n",
       "1668  From Jans-Web: [Japanese AV Star] Yumika Hayas...  \n",
       "1669                                          More Info  \n",
       "1676                                      AKA Jeff Ryan  \n",
       "1680                                                NaN  \n",
       "\n",
       "[857 rows x 5 columns]"
      ]
     },
     "execution_count": 64,
     "metadata": {},
     "output_type": "execute_result"
    }
   ],
   "source": [
    "df_alt"
   ]
  },
  {
   "cell_type": "code",
   "execution_count": 65,
   "id": "87dc7dd6",
   "metadata": {},
   "outputs": [
    {
     "name": "stdout",
     "output_type": "stream",
     "text": [
      "The leading cause of death is 'Medical' with 209 occurrences.\n",
      "Total occurrences across all columns: 572\n",
      "\n",
      "66.74% of actors are recorded to be dead related to the search variables\n"
     ]
    }
   ],
   "source": [
    "search_terms = ['Aids', 'aids', 'Suicide', 'suicide', 'meth', 'methamphetamine',\n",
    "                'Methamphetamine', 'gun', 'Gun', 'Self', 'self', 'asphyxiation', \n",
    "                'hang', 'abuse', 'drugs', 'attack', 'cocaine', 'Cocaine',\n",
    "                'car crash', 'partner', 'cancer', 'Cancer', 'OD', 'Overdose',\n",
    "                'overdose', 'Murder', 'murder', 'murdered', 'boyfriend', 'husband',\n",
    "                'heart attack', 'cardiac arrest', 'stroke', 'Stroke']\n",
    "\n",
    "exclude_terms = ['Suicide', 'Murder', 'AIDS', 'Overdose']\n",
    "\n",
    "total_occurrence = 0\n",
    "\n",
    "from collections import Counter\n",
    "\n",
    "cause_counter = Counter()\n",
    "\n",
    "for index, row in df_alt.iterrows():\n",
    "    if any(term in row['Cause'] for term in exclude_terms):\n",
    "        total_occurrence += 1\n",
    "        continue\n",
    "\n",
    "    if isinstance(row['Short Note'], str):\n",
    "        short_note_matched = any(term.lower() in row['Short Note'].lower() for term in search_terms)\n",
    "    else:\n",
    "        short_note_matched = False\n",
    "        \n",
    "    if isinstance(row['Long Description'], str):\n",
    "        long_desc_matched = any(term.lower() in row['Long Description'].lower() for term in search_terms)\n",
    "    else:\n",
    "        long_desc_matched = False\n",
    "    \n",
    "    if short_note_matched or long_desc_matched:\n",
    "        cause_counter[row['Cause']] += 1\n",
    "\n",
    "leading_cause = cause_counter.most_common(1)\n",
    "if leading_cause:\n",
    "    leading_cause_name, leading_cause_count = leading_cause[0]\n",
    "    print(f\"The leading cause of death is '{leading_cause_name}' with {leading_cause_count} occurrences.\")\n",
    "else:\n",
    "    print(\"No leading cause of death found.\")\n",
    "\n",
    "total_occurrence += sum(cause_counter.values())\n",
    "print(\"Total occurrences across all columns:\", total_occurrence)\n",
    "\n",
    "x_df_alt = (total_occurrence / df_alt.shape[0]) * 100\n",
    "print(f\"\\n{x_df_alt:.2f}% of actors are recorded to be dead related to the search variables\")"
   ]
  },
  {
   "cell_type": "code",
   "execution_count": 67,
   "id": "bc982bc9",
   "metadata": {},
   "outputs": [
    {
     "data": {
      "text/plain": [
       "(857, 5)"
      ]
     },
     "execution_count": 67,
     "metadata": {},
     "output_type": "execute_result"
    }
   ],
   "source": [
    "df_alt.shape"
   ]
  },
  {
   "cell_type": "code",
   "execution_count": 68,
   "id": "6d0f99d3",
   "metadata": {},
   "outputs": [
    {
     "data": {
      "text/html": [
       "<div>\n",
       "<style scoped>\n",
       "    .dataframe tbody tr th:only-of-type {\n",
       "        vertical-align: middle;\n",
       "    }\n",
       "\n",
       "    .dataframe tbody tr th {\n",
       "        vertical-align: top;\n",
       "    }\n",
       "\n",
       "    .dataframe thead th {\n",
       "        text-align: right;\n",
       "    }\n",
       "</style>\n",
       "<table border=\"1\" class=\"dataframe\">\n",
       "  <thead>\n",
       "    <tr style=\"text-align: right;\">\n",
       "      <th></th>\n",
       "      <th>Name</th>\n",
       "      <th>Cause</th>\n",
       "      <th>Short Note</th>\n",
       "      <th>Date of Death</th>\n",
       "      <th>Long Description</th>\n",
       "    </tr>\n",
       "  </thead>\n",
       "  <tbody>\n",
       "    <tr>\n",
       "      <th>1</th>\n",
       "      <td>Adam Faust</td>\n",
       "      <td>Medical</td>\n",
       "      <td>Cardiac Arrest</td>\n",
       "      <td>2021-08-02</td>\n",
       "      <td>More Info</td>\n",
       "    </tr>\n",
       "    <tr>\n",
       "      <th>3</th>\n",
       "      <td>Adonis Cheeks</td>\n",
       "      <td>Suicide</td>\n",
       "      <td>NaN</td>\n",
       "      <td>2019-11-01</td>\n",
       "      <td>Exact date of death unknown at this time.\\nDat...</td>\n",
       "    </tr>\n",
       "    <tr>\n",
       "      <th>5</th>\n",
       "      <td>Adrianna Analese</td>\n",
       "      <td>Murder</td>\n",
       "      <td>Killed by her husband in a murder-suicide</td>\n",
       "      <td>2008-11-21</td>\n",
       "      <td>NaN</td>\n",
       "    </tr>\n",
       "    <tr>\n",
       "      <th>8</th>\n",
       "      <td>Aiden Bonini</td>\n",
       "      <td>Medical</td>\n",
       "      <td>Meningitis</td>\n",
       "      <td>2007-03-26</td>\n",
       "      <td>\"Aiden was sadly taken from this world earlier...</td>\n",
       "    </tr>\n",
       "    <tr>\n",
       "      <th>9</th>\n",
       "      <td>Aileene Dacosta</td>\n",
       "      <td>Medical</td>\n",
       "      <td>She died in 2011 at age 23 of cerebral vascula...</td>\n",
       "      <td>2011-01-23</td>\n",
       "      <td>More Info</td>\n",
       "    </tr>\n",
       "    <tr>\n",
       "      <th>...</th>\n",
       "      <td>...</td>\n",
       "      <td>...</td>\n",
       "      <td>...</td>\n",
       "      <td>...</td>\n",
       "      <td>...</td>\n",
       "    </tr>\n",
       "    <tr>\n",
       "      <th>1665</th>\n",
       "      <td>Yasmin Viana</td>\n",
       "      <td>Medical</td>\n",
       "      <td>Heart Failure</td>\n",
       "      <td>2015-08-11</td>\n",
       "      <td>NaN</td>\n",
       "    </tr>\n",
       "    <tr>\n",
       "      <th>1668</th>\n",
       "      <td>Yumika Hayashi</td>\n",
       "      <td>Unsure</td>\n",
       "      <td>Unknown</td>\n",
       "      <td>2005-06-29</td>\n",
       "      <td>From Jans-Web: [Japanese AV Star] Yumika Hayas...</td>\n",
       "    </tr>\n",
       "    <tr>\n",
       "      <th>1669</th>\n",
       "      <td>Yurizan Beltran</td>\n",
       "      <td>Overdose</td>\n",
       "      <td>Apparent Overdose</td>\n",
       "      <td>2017-12-13</td>\n",
       "      <td>More Info</td>\n",
       "    </tr>\n",
       "    <tr>\n",
       "      <th>1676</th>\n",
       "      <td>Zeff Ryan</td>\n",
       "      <td>AIDS</td>\n",
       "      <td>AIDS</td>\n",
       "      <td>NaT</td>\n",
       "      <td>AKA Jeff Ryan</td>\n",
       "    </tr>\n",
       "    <tr>\n",
       "      <th>1680</th>\n",
       "      <td>Zozimo Bulbul</td>\n",
       "      <td>Medical</td>\n",
       "      <td>Cancer</td>\n",
       "      <td>2013-01-24</td>\n",
       "      <td>NaN</td>\n",
       "    </tr>\n",
       "  </tbody>\n",
       "</table>\n",
       "<p>857 rows × 5 columns</p>\n",
       "</div>"
      ],
      "text/plain": [
       "                  Name     Cause  \\\n",
       "1           Adam Faust   Medical   \n",
       "3        Adonis Cheeks   Suicide   \n",
       "5     Adrianna Analese    Murder   \n",
       "8         Aiden Bonini   Medical   \n",
       "9      Aileene Dacosta   Medical   \n",
       "...                ...       ...   \n",
       "1665      Yasmin Viana   Medical   \n",
       "1668    Yumika Hayashi    Unsure   \n",
       "1669   Yurizan Beltran  Overdose   \n",
       "1676         Zeff Ryan      AIDS   \n",
       "1680     Zozimo Bulbul   Medical   \n",
       "\n",
       "                                             Short Note Date of Death  \\\n",
       "1                                        Cardiac Arrest    2021-08-02   \n",
       "3                                                   NaN    2019-11-01   \n",
       "5             Killed by her husband in a murder-suicide    2008-11-21   \n",
       "8                                            Meningitis    2007-03-26   \n",
       "9     She died in 2011 at age 23 of cerebral vascula...    2011-01-23   \n",
       "...                                                 ...           ...   \n",
       "1665                                      Heart Failure    2015-08-11   \n",
       "1668                                            Unknown    2005-06-29   \n",
       "1669                                  Apparent Overdose    2017-12-13   \n",
       "1676                                               AIDS           NaT   \n",
       "1680                                             Cancer    2013-01-24   \n",
       "\n",
       "                                       Long Description  \n",
       "1                                             More Info  \n",
       "3     Exact date of death unknown at this time.\\nDat...  \n",
       "5                                                   NaN  \n",
       "8     \"Aiden was sadly taken from this world earlier...  \n",
       "9                                             More Info  \n",
       "...                                                 ...  \n",
       "1665                                                NaN  \n",
       "1668  From Jans-Web: [Japanese AV Star] Yumika Hayas...  \n",
       "1669                                          More Info  \n",
       "1676                                      AKA Jeff Ryan  \n",
       "1680                                                NaN  \n",
       "\n",
       "[857 rows x 5 columns]"
      ]
     },
     "execution_count": 68,
     "metadata": {},
     "output_type": "execute_result"
    }
   ],
   "source": [
    "df_alt"
   ]
  },
  {
   "cell_type": "code",
   "execution_count": null,
   "id": "e37bfb8f",
   "metadata": {},
   "outputs": [],
   "source": []
  }
 ],
 "metadata": {
  "kernelspec": {
   "display_name": "Python 3 (ipykernel)",
   "language": "python",
   "name": "python3"
  },
  "language_info": {
   "codemirror_mode": {
    "name": "ipython",
    "version": 3
   },
   "file_extension": ".py",
   "mimetype": "text/x-python",
   "name": "python",
   "nbconvert_exporter": "python",
   "pygments_lexer": "ipython3",
   "version": "3.11.5"
  }
 },
 "nbformat": 4,
 "nbformat_minor": 5
}
